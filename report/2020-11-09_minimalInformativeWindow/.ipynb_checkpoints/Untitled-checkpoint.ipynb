{
 "cells": [
  {
   "cell_type": "markdown",
   "metadata": {},
   "source": [
    "#  Mida mínia informativa de finestra\n",
    "\n",
    "En aquest _notebook_ de Jupyter exploraré quina és la mida mínima informativa per les finestres que analitzem amb les dades de Bell et al. 2020. Sabem que es poden fer mides de finestra més petites que a l'article original, pero a mesura que fem finestres més petites és evident que les mesures es tornen menys realistes.\n",
    "\n",
    "Per fer-ho, compararé 3 mesures de  la taxa de recombinació en una finestra de mida concreta: la original del paper, que agafa el punt mig de la regió; la nostra, que agafa una mesura probabilstica; i la \"real\", per la qual se li assigna a cada fragment un punt concret que seria on hipotèticament va tenir lloc l'entrecreuament.\n",
    "\n"
   ]
  },
  {
   "cell_type": "code",
   "execution_count": 1,
   "metadata": {},
   "outputs": [],
   "source": [
    "import pandas as pd\n",
    "import random\n",
    "import os\n",
    "import numpy as np\n"
   ]
  },
  {
   "cell_type": "markdown",
   "metadata": {},
   "source": [
    "## Especificació de variables\n",
    "\n",
    "\n",
    "Per anar més ràpid, fare servir només el cromosoma 1 de l'individu 1. Més endavant si volem, es pot ampliar a més cromosomes i individus, ja que el filtratge es farà a partir de vectors. "
   ]
  },
  {
   "cell_type": "code",
   "execution_count": 2,
   "metadata": {},
   "outputs": [],
   "source": [
    "# Folders\n",
    "outdir = \"tmp/\"\n",
    "if not os.path.exists(outdir):\n",
    "    os.mkdir(outdir)\n",
    "\n",
    "# Subset inds and chr\n",
    "individuals = [\"NC1\"]\n",
    "chromosomes = [\"chr1\"]\n",
    "\n",
    "# Windows\n",
    "winsizes = [5000]\n",
    "winsizes.extend(range(10000, 300000, 10000))\n",
    "winsizes.extend(range(300000, 550000, 50000))\n",
    "winsizes = [str(win) for win in winsizes]\n",
    "\n",
    "# Amount of iterations\n",
    "seeds = list(range(1,50, 1))\n"
   ]
  },
  {
   "cell_type": "markdown",
   "metadata": {},
   "source": [
    "## Arxius amb crossovers\n",
    "\n",
    "### Creació dels 3 modes de crossover\n",
    "\n",
    "__Atenció! Aquesta part del codi no cal si ja existeixen els arxius!__\n",
    "\n",
    "Els arxius existents són importat més endavant. "
   ]
  },
  {
   "cell_type": "markdown",
   "metadata": {},
   "source": [
    "Necessitem 3 tipus de crossover: en el centre de la regió, tota la regió, i un punt aleatori de la regió. Un cop generats aquests arxius, es poden reutilitzar pel que calgui, així que els guardarem a `data/use/avery_crossovers`. \n",
    "\n",
    "Aquí està la taula original, que servirà perl mètode probabilístic:"
   ]
  },
  {
   "cell_type": "code",
   "execution_count": 11,
   "metadata": {
    "deletable": false,
    "editable": false,
    "run_control": {
     "frozen": true
    }
   },
   "outputs": [
    {
     "data": {
      "text/html": [
       "<div>\n",
       "<style scoped>\n",
       "    .dataframe tbody tr th:only-of-type {\n",
       "        vertical-align: middle;\n",
       "    }\n",
       "\n",
       "    .dataframe tbody tr th {\n",
       "        vertical-align: top;\n",
       "    }\n",
       "\n",
       "    .dataframe thead th {\n",
       "        text-align: right;\n",
       "    }\n",
       "</style>\n",
       "<table border=\"1\" class=\"dataframe\">\n",
       "  <thead>\n",
       "    <tr style=\"text-align: right;\">\n",
       "      <th></th>\n",
       "      <th>chr</th>\n",
       "      <th>pos.leftbound</th>\n",
       "      <th>pos.rightbound</th>\n",
       "      <th>donor</th>\n",
       "    </tr>\n",
       "  </thead>\n",
       "  <tbody>\n",
       "    <tr>\n",
       "      <th>0</th>\n",
       "      <td>chr1</td>\n",
       "      <td>779059</td>\n",
       "      <td>818802</td>\n",
       "      <td>NC9</td>\n",
       "    </tr>\n",
       "    <tr>\n",
       "      <th>1</th>\n",
       "      <td>chr1</td>\n",
       "      <td>779059</td>\n",
       "      <td>818954</td>\n",
       "      <td>NC9</td>\n",
       "    </tr>\n",
       "    <tr>\n",
       "      <th>2</th>\n",
       "      <td>chr1</td>\n",
       "      <td>779059</td>\n",
       "      <td>875756</td>\n",
       "      <td>NC9</td>\n",
       "    </tr>\n",
       "    <tr>\n",
       "      <th>3</th>\n",
       "      <td>chr1</td>\n",
       "      <td>779059</td>\n",
       "      <td>909894</td>\n",
       "      <td>NC9</td>\n",
       "    </tr>\n",
       "    <tr>\n",
       "      <th>4</th>\n",
       "      <td>chr1</td>\n",
       "      <td>779885</td>\n",
       "      <td>1158683</td>\n",
       "      <td>NC14</td>\n",
       "    </tr>\n",
       "  </tbody>\n",
       "</table>\n",
       "</div>"
      ],
      "text/plain": [
       "    chr  pos.leftbound  pos.rightbound donor\n",
       "0  chr1         779059          818802   NC9\n",
       "1  chr1         779059          818954   NC9\n",
       "2  chr1         779059          875756   NC9\n",
       "3  chr1         779059          909894   NC9\n",
       "4  chr1         779885         1158683  NC14"
      ]
     },
     "execution_count": 11,
     "metadata": {},
     "output_type": "execute_result"
    }
   ],
   "source": [
    "originalBed = pd.read_csv(\"../../data/use/avery_crossovers/allcrossovers.bed\", sep = \"\\t\", header = 'infer')\n",
    "\n",
    "originalBed.head()"
   ]
  },
  {
   "cell_type": "markdown",
   "metadata": {},
   "source": [
    "Taula agafant el centre de la regió:"
   ]
  },
  {
   "cell_type": "code",
   "execution_count": 12,
   "metadata": {
    "deletable": false,
    "editable": false,
    "run_control": {
     "frozen": true
    }
   },
   "outputs": [
    {
     "data": {
      "text/html": [
       "<div>\n",
       "<style scoped>\n",
       "    .dataframe tbody tr th:only-of-type {\n",
       "        vertical-align: middle;\n",
       "    }\n",
       "\n",
       "    .dataframe tbody tr th {\n",
       "        vertical-align: top;\n",
       "    }\n",
       "\n",
       "    .dataframe thead th {\n",
       "        text-align: right;\n",
       "    }\n",
       "</style>\n",
       "<table border=\"1\" class=\"dataframe\">\n",
       "  <thead>\n",
       "    <tr style=\"text-align: right;\">\n",
       "      <th></th>\n",
       "      <th>chr</th>\n",
       "      <th>pos.leftbound</th>\n",
       "      <th>pos.rightbound</th>\n",
       "      <th>donor</th>\n",
       "    </tr>\n",
       "  </thead>\n",
       "  <tbody>\n",
       "    <tr>\n",
       "      <th>0</th>\n",
       "      <td>chr1</td>\n",
       "      <td>798930</td>\n",
       "      <td>798931</td>\n",
       "      <td>NC9</td>\n",
       "    </tr>\n",
       "    <tr>\n",
       "      <th>1</th>\n",
       "      <td>chr1</td>\n",
       "      <td>799006</td>\n",
       "      <td>799007</td>\n",
       "      <td>NC9</td>\n",
       "    </tr>\n",
       "    <tr>\n",
       "      <th>2</th>\n",
       "      <td>chr1</td>\n",
       "      <td>827407</td>\n",
       "      <td>827408</td>\n",
       "      <td>NC9</td>\n",
       "    </tr>\n",
       "    <tr>\n",
       "      <th>3</th>\n",
       "      <td>chr1</td>\n",
       "      <td>844476</td>\n",
       "      <td>844477</td>\n",
       "      <td>NC9</td>\n",
       "    </tr>\n",
       "    <tr>\n",
       "      <th>4</th>\n",
       "      <td>chr1</td>\n",
       "      <td>969284</td>\n",
       "      <td>969285</td>\n",
       "      <td>NC14</td>\n",
       "    </tr>\n",
       "  </tbody>\n",
       "</table>\n",
       "</div>"
      ],
      "text/plain": [
       "    chr  pos.leftbound  pos.rightbound donor\n",
       "0  chr1         798930          798931   NC9\n",
       "1  chr1         799006          799007   NC9\n",
       "2  chr1         827407          827408   NC9\n",
       "3  chr1         844476          844477   NC9\n",
       "4  chr1         969284          969285  NC14"
      ]
     },
     "execution_count": 12,
     "metadata": {},
     "output_type": "execute_result"
    }
   ],
   "source": [
    "# CENTER OF EVENTS\n",
    "# This will not be the exact center in odd numbers, but works well enough\n",
    "# -------------------------\n",
    "centerBed = originalBed.copy()\n",
    "centerBed['pos.leftbound'] = ( centerBed['pos.leftbound'] + centerBed['pos.rightbound'] )/2\n",
    "centerBed['pos.leftbound'] = centerBed['pos.leftbound'].astype(int)\n",
    "centerBed['pos.rightbound'] = centerBed['pos.leftbound']+1\n",
    "\n",
    "centerBed.to_csv(\"../../data/use/avery_crossovers/allcrossovers_center.bed\",index=None, sep='\\t', mode='w')\n",
    "centerBed.head()"
   ]
  },
  {
   "cell_type": "markdown",
   "metadata": {},
   "source": [
    "Taula agafant un lloc aleatori de cada regió:"
   ]
  },
  {
   "cell_type": "code",
   "execution_count": 3,
   "metadata": {
    "scrolled": false
   },
   "outputs": [],
   "source": [
    "# \"REAL\" EVENTS\n",
    "# Let's suppose real events occured in the following positions:\n",
    "# -------------------------\n",
    "# This function creates a new random file\n",
    "\n",
    "def newRandomCrossovers(randBed, outfile, seed):\n",
    "    random.seed(seed)\n",
    "    randlist = []\n",
    "\n",
    "    for index, row in randBed.iterrows():\n",
    "        randnum = random.randint(row[1], row[2]-1) # random.randint includes both numbers\n",
    "        randlist.append(randnum)\n",
    "    newtab  = randBed.copy()    \n",
    "    newtab['pos.leftbound'] = randlist\n",
    "    newtab['pos.rightbound'] = newtab['pos.leftbound']+1\n",
    "    newtab.to_csv(outfile,index=None, sep='\\t', mode='w') \n",
    " "
   ]
  },
  {
   "cell_type": "code",
   "execution_count": 15,
   "metadata": {
    "deletable": false,
    "editable": false,
    "run_control": {
     "frozen": true
    }
   },
   "outputs": [],
   "source": [
    "newRandomCrossovers(originalBed, \"../../data/use/avery_crossovers/allcrossovers_random.bed\", 1 )"
   ]
  },
  {
   "cell_type": "code",
   "execution_count": null,
   "metadata": {
    "deletable": false,
    "editable": false,
    "run_control": {
     "frozen": true
    }
   },
   "outputs": [],
   "source": [
    "randBed = pd.read_csv(\"../../data/use/avery_crossovers/allcrossovers_random.bed\", sep = \"\\t\", header = 'infer')"
   ]
  },
  {
   "cell_type": "markdown",
   "metadata": {},
   "source": [
    "### Filtratge dels 3 modes de crossover\n",
    "\n",
    "Els 3 tipus de crossover els volem filtrar per només incloure aquells events dels individus i cromosomes que ens interessen, per anar més ràpid. "
   ]
  },
  {
   "cell_type": "code",
   "execution_count": 4,
   "metadata": {},
   "outputs": [],
   "source": [
    "def filter_individuals( bedfile, ind = individuals, chrom = chromosomes):\n",
    "    # Save columns\n",
    "    colnames = list(bedfile.columns) \n",
    "    # Filter individuals\n",
    "    #bedfile['individual']=bedfile['donor_cell'].str.extract(r'(^NC\\d*)_')\n",
    "    bedfile = bedfile[bedfile['donor'].isin(ind)]\n",
    "    # Filter chromosomes\n",
    "    bedfile = bedfile[bedfile['chr'].isin(chrom)]\n",
    "    # Remove extra columns\n",
    "    bedfile = bedfile[colnames]\n",
    "    # Finish\n",
    "    return bedfile"
   ]
  },
  {
   "cell_type": "code",
   "execution_count": 5,
   "metadata": {},
   "outputs": [],
   "source": [
    "# Original\n",
    "originalBed = pd.read_csv(\"../../data/use/avery_crossovers/allcrossovers.bed\", sep = \"\\t\", header = 'infer')\n",
    "originalBed = filter_individuals(bedfile = originalBed)\n",
    "originalBed.to_csv(outdir+\"allcrossovers_prob.bed\",index=None, sep='\\t', mode='w')\n",
    "# Center\n",
    "centerBed = pd.read_csv(\"../../data/use/avery_crossovers/allcrossovers_center.bed\", sep = \"\\t\", header = 'infer')\n",
    "centerBed = filter_individuals(bedfile = centerBed)\n",
    "centerBed.to_csv(outdir+\"allcrossovers_center.bed\",index=None, sep='\\t', mode='w')\n",
    "# Random\n",
    "# randBed = filter_individuals(bedfile = randBed)\n",
    "# randBed.to_csv(outdir+\"allcrossovers_base.bed\",index=None, sep='\\t', mode='w')\n",
    "# For more than one random file\n",
    "\n",
    "for s in seeds:\n",
    "    newRandomCrossovers(randBed = originalBed, outfile =  outdir+\"allcrossovers_base\"+str(s)+\".bed\", seed = s)\n",
    "    "
   ]
  },
  {
   "cell_type": "markdown",
   "metadata": {},
   "source": [
    "## Arxiu amb les finestres \n",
    "\n",
    "Existeix un arxiu que ens diu com de grans són els cromosomes, d'allà podem obtenir les mides dels cromosomes que voldrem fer servir. \n",
    "\n"
   ]
  },
  {
   "cell_type": "code",
   "execution_count": 6,
   "metadata": {},
   "outputs": [],
   "source": [
    "boundaries = pd.read_csv(\"../../data/use/assembly_hg38/minmax.strict.gff\", sep = \" \", header = None)\n",
    "boundaries = boundaries[boundaries[0].isin(chromosomes)]\n",
    "boundaries.to_csv(outdir+\"region.bed\",index=None, sep='\\t', mode='w', header = None)"
   ]
  },
  {
   "cell_type": "markdown",
   "metadata": {},
   "source": [
    "A continuació, apliquem el codi de fer les finestres: "
   ]
  },
  {
   "cell_type": "code",
   "execution_count": 7,
   "metadata": {
    "scrolled": true
   },
   "outputs": [],
   "source": [
    "for w in winsizes:\n",
    "    os.system('python ../../code/python/makeBedWindows.py --input '+outdir+'region.bed --output '+outdir+'windows_'+w+'.bed --fixedWindow '+w+' --windowMethod \"fromLeft\" --chromBoundaries '+outdir+'region.bed')"
   ]
  },
  {
   "cell_type": "markdown",
   "metadata": {},
   "source": [
    "## Fer taxa de recombinació\n",
    "\n",
    "Ara amb bedtools volem saber quins dels crossovers solapen amb les finestres. Després, makeRecRates calcula les taxes de recombinació i també fa el recompte, o sigui que és una taula que així com surti ja es podra comparar. \n",
    "\n"
   ]
  },
  {
   "cell_type": "code",
   "execution_count": 8,
   "metadata": {},
   "outputs": [],
   "source": [
    "modes = [\"center\", \"prob\"]\n",
    "for s in seeds:\n",
    "    modes.append(\"base\"+str(s))\n",
    "    \n",
    "for w in winsizes:\n",
    "    for m in modes: \n",
    "        os.system('bedtools intersect -wao -a \"'+outdir+'windows_'+w+'.bed\"  -b \"'+outdir+'allcrossovers_'+m+'.bed\" > \"'+outdir+'comparison_'+w+'_'+m+'.txt\"')\n",
    "        os.system('python ../../code/python/makeRecRates.py --input \"'+outdir+'comparison_'+w+'_'+m+'.txt\" --output \"'+outdir+'crossoverResult_'+w+'_'+m+'.txt\" --numofsamples \"../../data/use/avery_crossovers/numOfCells.txt\"')"
   ]
  },
  {
   "cell_type": "markdown",
   "metadata": {},
   "source": [
    "## Representar resultats\n",
    "\n",
    "### Pujar les taules\n",
    "    \n",
    "Abans carregava les taules a la memòria pero ara per no petar-la, faré una funció que només caregui el que \n",
    "necessito."
   ]
  },
  {
   "cell_type": "code",
   "execution_count": 9,
   "metadata": {
    "deletable": false,
    "editable": false,
    "run_control": {
     "frozen": true
    }
   },
   "outputs": [],
   "source": [
    "tables = globals()\n",
    "for w in winsizes:\n",
    "    for m in modes:\n",
    "        tables['rR'+w+m] = pd.read_csv( outdir+'crossoverResult_'+w+m+'.txt' ,  sep = \"\\t\", header = 'infer')\n"
   ]
  },
  {
   "cell_type": "code",
   "execution_count": 9,
   "metadata": {},
   "outputs": [],
   "source": [
    "def correl_calculation(winsizes, modes, seeds):\n",
    "    correlations = []\n",
    "    for s in seeds:\n",
    "        for w in winsizes:\n",
    "            base = pd.read_csv( outdir+'crossoverResult_'+w+'_base'+str(s)+'.txt' ,  sep = \"\\t\", header = 'infer')\n",
    "            for m in [\"center\", \"prob\"]:\n",
    "                compare = pd.read_csv( outdir+'crossoverResult_'+w+'_'+m+'.txt' ,  sep = \"\\t\", header = 'infer') \n",
    "                # Make correlation\n",
    "                c1 = base['overlapScore'].corr(compare['overlapScore'])\n",
    "                correlations.append({'winsize' : w, 'mode' : m, 'correl_count' : c1})\n",
    "                # Return\n",
    "    correlations = pd.DataFrame(correlations)\n",
    "    return(correlations)"
   ]
  },
  {
   "cell_type": "markdown",
   "metadata": {},
   "source": [
    "### Fer correlacions\n",
    "\n",
    "\n"
   ]
  },
  {
   "cell_type": "code",
   "execution_count": 10,
   "metadata": {},
   "outputs": [],
   "source": [
    "correlations = correl_calculation(winsizes, [\"center\", \"prob\"], seeds )"
   ]
  },
  {
   "cell_type": "code",
   "execution_count": 11,
   "metadata": {},
   "outputs": [],
   "source": [
    "# correlations"
   ]
  },
  {
   "cell_type": "markdown",
   "metadata": {},
   "source": [
    "### Plot"
   ]
  },
  {
   "cell_type": "code",
   "execution_count": 12,
   "metadata": {},
   "outputs": [],
   "source": [
    "correlations.to_csv(\"correlation.table\",index=None, sep='\\t', mode='a', header =  False )"
   ]
  }
 ],
 "metadata": {
  "kernelspec": {
   "display_name": "Python 3",
   "language": "python",
   "name": "python3"
  },
  "language_info": {
   "codemirror_mode": {
    "name": "ipython",
    "version": 3
   },
   "file_extension": ".py",
   "mimetype": "text/x-python",
   "name": "python",
   "nbconvert_exporter": "python",
   "pygments_lexer": "ipython3",
   "version": "3.6.9"
  },
  "varInspector": {
   "cols": {
    "lenName": 16,
    "lenType": 16,
    "lenVar": 40
   },
   "kernels_config": {
    "python": {
     "delete_cmd_postfix": "",
     "delete_cmd_prefix": "del ",
     "library": "var_list.py",
     "varRefreshCmd": "print(var_dic_list())"
    },
    "r": {
     "delete_cmd_postfix": ") ",
     "delete_cmd_prefix": "rm(",
     "library": "var_list.r",
     "varRefreshCmd": "cat(var_dic_list()) "
    }
   },
   "position": {
    "height": "354.85px",
    "left": "1466px",
    "right": "20px",
    "top": "120px",
    "width": "325px"
   },
   "types_to_exclude": [
    "module",
    "function",
    "builtin_function_or_method",
    "instance",
    "_Feature"
   ],
   "window_display": false
  }
 },
 "nbformat": 4,
 "nbformat_minor": 4
}
